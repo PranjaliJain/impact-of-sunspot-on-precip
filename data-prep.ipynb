{
 "cells": [
  {
   "cell_type": "code",
   "execution_count": 3,
   "metadata": {},
   "outputs": [],
   "source": [
    "# Ref\n",
    "# - https://numpy.org/doc/stable/reference/maskedarray.generic.html\n",
    "# - https://joehamman.com/2013/10/12/plotting-netCDF-data-with-Python/\n",
    "# - http://www.sidc.be/silso/infosnmtot"
   ]
  },
  {
   "cell_type": "code",
   "execution_count": 4,
   "metadata": {},
   "outputs": [],
   "source": [
    "from netCDF4 import Dataset\n",
    "from datetime import datetime, timedelta\n",
    "import numpy as np\n",
    "import pandas as pd"
   ]
  },
  {
   "cell_type": "markdown",
   "metadata": {},
   "source": [
    "# Sunspot Data Prep"
   ]
  },
  {
   "cell_type": "code",
   "execution_count": 74,
   "metadata": {},
   "outputs": [],
   "source": [
    "df = pd.read_csv('SN_m_tot_V2.0.csv', delimiter=\";\", header=None)\n",
    "df.columns = ['Year', 'Month', 'Date in fraction of year', 'Monthly mean total sunspot number', 'Monthly mean standard deviation', 'Number of observations', 'Definitive/provisional marker']\n",
    "df = df[['Year', 'Month', 'Monthly mean total sunspot number']]\n",
    "df['Date'] = pd.to_datetime(df[['Year', 'Month']].assign(DAY=1))\n",
    "df.set_index('Date', inplace=True)\n",
    "df = df[['Monthly mean total sunspot number']]\n",
    "df.columns = ['Sunspot']\n",
    "df.to_csv('Monthwise_Sunspot.csv')"
   ]
  },
  {
   "cell_type": "markdown",
   "metadata": {},
   "source": [
    "# Precipitation Data Prep"
   ]
  },
  {
   "cell_type": "code",
   "execution_count": 91,
   "metadata": {},
   "outputs": [],
   "source": [
    "file_name = \"raw_datasets/final_kelvin.nc\"\n",
    "file = Dataset(file_name, mode='r')"
   ]
  },
  {
   "cell_type": "code",
   "execution_count": 95,
   "metadata": {},
   "outputs": [
    {
     "data": {
      "text/plain": [
       "<class 'netCDF4._netCDF4.Dataset'>\n",
       "root group (NETCDF4 data model, file format HDF5):\n",
       "    dimensions(sizes): lat(124), lon(147), time(24106)\n",
       "    variables(dimensions): float64 lat(lat), float64 lon(lon), int64 time(time), float64 prcp(lat,lon,time), float64 tasmax(lat,lon,time), float64 tasmin(lat,lon,time)\n",
       "    groups: "
      ]
     },
     "execution_count": 95,
     "metadata": {},
     "output_type": "execute_result"
    }
   ],
   "source": [
    "file"
   ]
  },
  {
   "cell_type": "code",
   "execution_count": 96,
   "metadata": {},
   "outputs": [],
   "source": [
    "location_wise = np.zeros(file['time'].shape)\n",
    "count = 0\n",
    "for lat in file['prcp']:\n",
    "    count+=1\n",
    "    if count%10 == 0:\n",
    "        print(count)\n",
    "        \n",
    "    for long in lat:\n",
    "        long = long[~long.mask]\n",
    "        if long != []:\n",
    "            location_wise = np.vstack([location_wise, long])"
   ]
  },
  {
   "cell_type": "code",
   "execution_count": null,
   "metadata": {},
   "outputs": [],
   "source": [
    "pd.DataFrame(a).to_csv('daywise_precipitation/Latitude_Longitude_Wise_Sequence_of_Days.csv', index=False)"
   ]
  },
  {
   "cell_type": "code",
   "execution_count": 5,
   "metadata": {},
   "outputs": [],
   "source": [
    "location_wise = pd.read_csv('daywise_precipitation/Latitude_Longitude_Wise_Sequence_of_Days.csv')\n",
    "location_wise = location_wise.to_numpy()\n",
    "location_wise[location_wise == 0] = np.nan\n",
    "location_wise_mean = np.nanmean(location_wise, axis=0)\n",
    "np.save('daywise_precipitation/Daywise_Precipitation', location_wise_mean) # List of precip values on each day starting 1951-01-02"
   ]
  },
  {
   "cell_type": "code",
   "execution_count": 58,
   "metadata": {},
   "outputs": [],
   "source": [
    "precipitaion = np.load('daywise_precipitation/Daywise_Precipitation.npy')\n",
    "\n",
    "list_dates = []\n",
    "for i in range(24106):\n",
    "    list_dates.append(datetime.strptime('1951-01-02',  '%Y-%m-%d') + timedelta(i))\n",
    "    \n",
    "df_date_precip = pd.concat([pd.DataFrame(list_dates), pd.DataFrame(precipitaion)],axis=1)\n",
    "df_date_precip.columns = ['Date', 'Precipitation']\n",
    "df_date_precip.set_index('Date', inplace=True)\n",
    "df_date_precip = df_date_precip.resample('M').mean()\n",
    "df_date_precip.to_csv('monthwise_datasets/Monthwise_Precipitation.csv') # Monthwise mean of precipitation value"
   ]
  },
  {
   "cell_type": "code",
   "execution_count": null,
   "metadata": {},
   "outputs": [],
   "source": []
  }
 ],
 "metadata": {
  "kernelspec": {
   "display_name": "Python 3",
   "language": "python",
   "name": "python3"
  },
  "language_info": {
   "codemirror_mode": {
    "name": "ipython",
    "version": 3
   },
   "file_extension": ".py",
   "mimetype": "text/x-python",
   "name": "python",
   "nbconvert_exporter": "python",
   "pygments_lexer": "ipython3",
   "version": "3.6.9"
  }
 },
 "nbformat": 4,
 "nbformat_minor": 2
}
